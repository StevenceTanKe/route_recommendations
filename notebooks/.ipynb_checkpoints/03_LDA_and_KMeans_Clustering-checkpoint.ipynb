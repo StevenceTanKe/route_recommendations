{
 "cells": [
  {
   "cell_type": "markdown",
   "id": "2c25cba0",
   "metadata": {},
   "source": [
    "<span style=\"font-weight: bold; font-size: 2em\">Topic Modeling Of Attractions</span>\n",
    "\n",
    "主要通过文本挖掘的方法得出可供用户选择的标签。首先，通过*LDA主题模型*提取各景点的分主题及其主题词；然后，通过*K-means聚类方法*根据主题词将分主题聚为六类，并通过总结每个类别的景点特点确定景点的标签。"
   ]
  },
  {
   "cell_type": "markdown",
   "id": "93983edc",
   "metadata": {},
   "source": [
    "# 景点的主题划分——*LDA模型*\n",
    "\n",
    "*LDA*是一种文档主题生成模型，也是一种非监督的机器学习技术，常称为一个三层贝叶斯概率模型，包含词、主题和文档三层结构。它认为一篇文章的每个词都是通过“以一定概率选择了某个主题，并从这个主题中以一定概率选择某个词语”这样一个过程得到，其中文档到主题服从多项式分布，主题到词服从多项式分布。\n",
    "\n",
    "选择LDA模型的原因包括：\n",
    "- 自动化的主题发现： *LDA*能够自动从数据中发现主题，这对于没有具体某些景点主题标签的先验知识的情况下非常有用。\n",
    "- 处理未标注数据： *LDA*不需要标注数据，这意味着可以直接在用户评论文本上应用LDA，而无需进行繁琐的数据标注工作。\n",
    "- 可解释性： *LDA*的输出（每个文档的主题分布和每个主题的词分布）直观且易于解释。这可以帮助确定每个景点的标签，并对旅游路线进行分类。\n",
    "- 灵活性： *LDA*模型的参数可以根据实际需求调整，例如调整主题数量以获取更精细或更广泛的主题分类。"
   ]
  },
  {
   "cell_type": "code",
   "execution_count": 1,
   "id": "16967fab",
   "metadata": {},
   "outputs": [],
   "source": [
    "from gensim import corpora, models\n",
    "import pandas as pd\n",
    "from tabulate import tabulate\n",
    "import os\n",
    "\n",
    "os.environ['OMP_NUM_THREADS'] = '1'\n",
    "\n",
    "def extract_topics(comments):\n",
    "    texts = comments.splitlines()\n",
    "\n",
    "    # 将每条评论分词后的结果作为一个文档\n",
    "    documents = [text.split() for text in texts]\n",
    "\n",
    "    # 创建字典\n",
    "    dictionary = corpora.Dictionary(documents)\n",
    "\n",
    "    # 创建语料库\n",
    "    corpus = [dictionary.doc2bow(document) for document in documents]\n",
    "\n",
    "    # 应用LDA模型\n",
    "    lda = models.LdaModel(corpus=corpus, id2word=dictionary, num_topics=2, passes=20, iterations=300, \n",
    "                          alpha='auto', eta='auto', random_state=0)\n",
    "\n",
    "    # 得到每个主题的关键词\n",
    "    topics = lda.print_topics(num_words=10)\n",
    "\n",
    "    return topics\n",
    "    \n",
    "\n",
    "def display_df_data(df, num_rows=5, show_index=False):\n",
    "    \"\"\"\n",
    "    Display the first few rows of data in the dataframe.\n",
    "\n",
    "    Parameters:\n",
    "        df (dataframe): The dataframe which contains the data.\n",
    "        num_rows (int): The number of rows to display initially. Default is 7.\n",
    "        show_index: Whether show index or not.\n",
    "    \"\"\"\n",
    "    if len(df) > num_rows:\n",
    "        df = df.head(num_rows)\n",
    "        \n",
    "    print(tabulate(df, headers='keys', tablefmt='psql', showindex=show_index))"
   ]
  },
  {
   "cell_type": "markdown",
   "id": "a5fe2908",
   "metadata": {},
   "source": [
    "## 基于各景点的中文分词，运用*LDA模型*，提取各景区的主题和关键词。\n",
    "为了提高*LDA模型*的准确率，我通过调整几个关键参数优化了模型性能：\n",
    "- *num_topics*: 主题数量，这是*LDA模型*最重要的参数之一。一开始设想是提取各景区的三个主题和十个关键词。但是通过逐一分析各景点的主题词提取结果，发现有些不是很符合。因此尝试修改逐个景点的主题数，但不修改主题词数目，得到更符合实际的各景点分主题。\n",
    "- *passes*: 整个语料库的遍历次数。更多的遍历次数可以增加模型的稳定性和准确性，但同时也增加了训练的时间。\n",
    "- *iterations*: 每次遍历语料库时，每个文档的最大迭代次数。增加迭代次数提高了模型质量，但也会导致更长的训练时间。\n",
    "- *alpha*和*eta*: 这两个参数是与主题先验相关的超参数。设置为*'auto'*，表示由模型自动学习最优值\n",
    "- *random_state = 0*: 为了确保结果的可重现性。"
   ]
  },
  {
   "cell_type": "code",
   "execution_count": 2,
   "id": "62b8fdb1",
   "metadata": {},
   "outputs": [],
   "source": [
    "comment_processed_file_path = '../data/processed/attractions_reviews.xlsx'\n",
    "\n",
    "df_comment = pd.read_excel(comment_processed_file_path)\n",
    "\n",
    "# 使用列表收集数据\n",
    "data = []\n",
    "\n",
    "for index, row in df_comment.iterrows():\n",
    "    comment = row['comment']\n",
    "    \n",
    "    topics = extract_topics(comment)\n",
    "    \n",
    "    # 将主题关键词作为字符串存储\n",
    "    topic_keywords = [' '.join(topic[1].split('\"')[1::2]) for topic in topics]  # 提取关键词，去除数字\n",
    "    data.append({'Topic 1': topic_keywords[0], 'Topic 2': topic_keywords[1]})\n",
    "\n",
    "\n",
    "# 在循环结束后从列表创建DataFrame\n",
    "temp_df = pd.DataFrame(data)\n",
    "df_comment[['Topic 1', 'Topic 2']] = temp_df[['Topic 1', 'Topic 2']]\n",
    "\n",
    "df_comment.to_excel(comment_processed_file_path, index=False)"
   ]
  },
  {
   "cell_type": "markdown",
   "id": "b92eb6c2",
   "metadata": {},
   "source": [
    "其中 *大三巴牌坊* 的主题划分结果如下："
   ]
  },
  {
   "cell_type": "code",
   "execution_count": 3,
   "id": "69a95081",
   "metadata": {},
   "outputs": [
    {
     "name": "stdout",
     "output_type": "stream",
     "text": [
      "+-----------------------------------------------------+---------------------------------------------------+\n",
      "| Topic 1                                             | Topic 2                                           |\n",
      "|-----------------------------------------------------+---------------------------------------------------|\n",
      "| 建筑 打卡 景点 地标 历史 教堂 标志性 值得 不错 牌坊 | 教堂 建筑 历史 景点 炮台 牌坊 游客 地标 打卡 大火 |\n",
      "+-----------------------------------------------------+---------------------------------------------------+\n"
     ]
    }
   ],
   "source": [
    "display_df_data(df_comment[df_comment['Attraction'] == '大三巴牌坊'][['Topic 1', 'Topic 2']])"
   ]
  },
  {
   "cell_type": "markdown",
   "id": "29c55b1f",
   "metadata": {},
   "source": [
    "# 主题词的提取——*K-Means文本聚类*\n",
    "*K-Means*是一种广泛使用的聚类算法，它通过迭代计算来将数据分成若干个类（K个类）。使用*K-Means文本聚类*进行主题词的提取是一个在文本数据分析中常见的方法，它能帮助我们从大量文本中识别出共性和差异，进而将文本数据聚类到不同的群组中。"
   ]
  },
  {
   "cell_type": "markdown",
   "id": "47843058",
   "metadata": {},
   "source": [
    "## 加载和准备数据\n",
    "首先，我们需要加载Excel文件中的数据，然后生成词频权重矩阵。"
   ]
  },
  {
   "cell_type": "code",
   "execution_count": 4,
   "id": "ff1be406",
   "metadata": {},
   "outputs": [],
   "source": [
    "from sklearn.feature_extraction.text import TfidfVectorizer\n",
    "import matplotlib.pyplot as plt\n",
    "\n",
    "df_topic = pd.read_excel(comment_processed_file_path)\n",
    "\n",
    "# 合并两个主题列为一个文本字段\n",
    "df_topic['Topic'] = df_topic['Topic 1'] + ' ' + df_topic['Topic 2']\n",
    "\n",
    "# 使用TF-IDF向量化器转换文本数据\n",
    "vectorizer = TfidfVectorizer()\n",
    "X = vectorizer.fit_transform(df_topic['Topic'])"
   ]
  },
  {
   "cell_type": "markdown",
   "id": "14d54038",
   "metadata": {},
   "source": [
    "## 应用K-means聚类\n",
    "接下来，我们将应用K-means算法对主题词进行聚类。我们需要选择一个合适的类数（即`n_clusters`），这可以通过尝试不同的值或使用诸如肘部方法来确定。"
   ]
  },
  {
   "cell_type": "code",
   "execution_count": 5,
   "id": "838b8d39",
   "metadata": {},
   "outputs": [
    {
     "data": {
      "image/png": "[encoded data removed]",
      "text/plain": [
       "<Figure size 1000x600 with 1 Axes>"
      ]
     },
     "metadata": {},
     "output_type": "display_data"
    }
   ],
   "source": [
    "from sklearn.cluster import KMeans\n",
    "\n",
    "# 尝试不同的聚类数并计算每个聚类数的WCSS\n",
    "wcss = []\n",
    "for i in range(1, 11):  # 测试1到10个聚类\n",
    "    kmeans = KMeans(n_clusters=i, init='k-means++', max_iter=300, n_init=8, random_state=0)\n",
    "    kmeans.fit(X)\n",
    "    wcss.append(kmeans.inertia_)  # inertia_ 是KMeans算法的属性，表示WCSS\n",
    "\n",
    "# 绘制肘部图\n",
    "plt.figure(figsize=(10, 6))\n",
    "plt.plot(range(1, 11), wcss, marker='o')\n",
    "plt.title('The Elbow Method')\n",
    "plt.xlabel('Number of clusters')\n",
    "plt.ylabel('WCSS')\n",
    "plt.show()"
   ]
  },
  {
   "cell_type": "code",
   "execution_count": 6,
   "id": "76041fd4",
   "metadata": {},
   "outputs": [],
   "source": [
    "# 肘部图不能得到明显的结果，于是通过测试选择聚类的数目为8\n",
    "num_clusters = 8\n",
    "\n",
    "# 应用K-means算法\n",
    "kmeans = KMeans(n_clusters=num_clusters, init='k-means++', n_init=10, random_state=0)\n",
    "clusters = kmeans.fit_predict(X)\n",
    "\n",
    "# 将聚类结果添加到原始数据框中\n",
    "df_topic['Cluster'] = clusters"
   ]
  },
  {
   "cell_type": "markdown",
   "id": "4e3ed943",
   "metadata": {},
   "source": [
    "## 微调和命名聚类\n",
    "根据实际情况对聚类结果进行微调，先通过查看每个聚类的景点和关键词来检查聚类结果（各聚类下前5个景点）。"
   ]
  },
  {
   "cell_type": "code",
   "execution_count": 7,
   "id": "76b6edcf",
   "metadata": {},
   "outputs": [
    {
     "name": "stdout",
     "output_type": "stream",
     "text": [
      "Cluster 0:\n",
      "+--------------+---------------------------------------------------------------------------------------------------------+\n",
      "| Attraction   | Topic                                                                                                   |\n",
      "|--------------+---------------------------------------------------------------------------------------------------------|\n",
      "| 东望洋山     | 灯塔 松山 炮台 公园 坐标 远东 古老 历史 山 俯瞰 山 灯塔 松山 山上 炮台 教堂 景色 坐 缆车 跑步           |\n",
      "| 二龙喉公园   | 公园 缆车 景色 坐 水池 松山 真的 拜斯 动物 百多年 公园 缆车 特别 不错 坐 值得 交通 环境 松山 动物       |\n",
      "| 亚婆井前地   | 建筑 山泉 水池 历史 葡萄牙 大屋 广场 最早 值得 居民 历史 水池 建筑 山泉 大屋 文化遗产 世界 走 休息 景点 |\n",
      "+--------------+---------------------------------------------------------------------------------------------------------+\n",
      "Cluster 1:\n",
      "+------------------+---------------------------------------------------------------------------------------------------------------+\n",
      "| Attraction       | Topic                                                                                                         |\n",
      "|------------------+---------------------------------------------------------------------------------------------------------------|\n",
      "| 卢家大屋         | 大屋 建筑 中式 大宅 典型 参观 卢华绍 商人 建筑风格 历史 大屋 卢九 大堂 精美 文化局 修复 管理 商人 巷 金玉     |\n",
      "| 圣母诞辰主教座堂 | 教堂 主教 座堂 建筑 大堂 天主教 历史 风格 特色 特别 教堂 主教 座堂 大堂 建筑 天主教 主教堂 外观 参观 木造     |\n",
      "| 圣老楞佐堂       | 教堂 古老 建筑 历史 祈求 平安 三座 安静 感觉 漂亮 参观 拍拖 南湾 邻近 景点 教堂 显 迷你 管风琴 size           |\n",
      "| 圣若瑟修院藏珍馆 | 圣堂 修院 华美 入口 精美 建筑 外墙 大门 巴洛克 风格 教堂 圣堂 建筑 修院 历史 修道院 风格 对外开放 巴洛克 特别 |\n",
      "| 天主教圣安多尼堂 | 教堂 婚礼 婚姻 建筑 感觉 公园 古老 重建 钟楼 历史 教堂 婚礼 婚姻 早已 劲 指着 拐弯抹角 小巷 工作人员 偏离     |\n",
      "+------------------+---------------------------------------------------------------------------------------------------------------+\n",
      "Cluster 2:\n",
      "+--------------+-----------------------------------------------------------------------------------------------------------------+\n",
      "| Attraction   | Topic                                                                                                           |\n",
      "|--------------+-----------------------------------------------------------------------------------------------------------------|\n",
      "| 仁慈堂大樓   | 大楼 建筑 博物馆 历史 不错 慈善机构 白色 亭 议事厅 慈善 大楼 博物馆 建筑 白色 亭 历史 慈善机构 建筑物 医院 二楼 |\n",
      "| 大炮台       | 炮台 博物馆 历史 大炮 旁边 圣保禄 景色 不错 葡京 俯瞰 炮台 博物馆 历史 大炮 旁边 葡京 走 景点 新 俯瞰           |\n",
      "| 海事博物馆   | 博物馆 历史 介绍 门票 模型 参观 对面 文化 展览 航海 博物馆 历史 介绍 航海 对面 模型 发展 值得 旁边 陈列         |\n",
      "| 澳门博物馆   | 博物馆 历史 炮台 文化 展示 参观 门票 不错 展品 值得 博物馆 历史 炮台 文化 展示 门票 旁边 值得 参观 不错         |\n",
      "| 澳门塔       | 不错 塔 蹦极 值得 体验 观光 刺激 餐厅 自助餐 景色 塔 不错 蹦极 观光 值得 建筑 景色 地标 餐厅 风景               |\n",
      "+--------------+-----------------------------------------------------------------------------------------------------------------+\n",
      "Cluster 3:\n",
      "+------------------+---------------------------------------------------------------------------------------------------------+\n",
      "| Attraction       | Topic                                                                                                   |\n",
      "|------------------+---------------------------------------------------------------------------------------------------------|\n",
      "| 下环街市熟食中心 | 吃 美食 街市 好吃 中心 熟食 味道 推荐 红豆饼 本地人 吃 街市 美食 好吃 熟食 味道 中心 推荐 本地人 市场   |\n",
      "| 十月初五马路     | 马路 街道 月光 特色 走 街 不错 街上 安静 繁华 马路 街 特色 街道 特别 路 海边 走 不错 吹                 |\n",
      "| 大三巴牌坊       | 建筑 打卡 景点 地标 历史 教堂 标志性 值得 不错 牌坊 教堂 建筑 历史 景点 炮台 牌坊 游客 地标 打卡 大火   |\n",
      "| 大三巴街         | 街 美食 买 试吃 一条街 卖 游客 猪肉 牛杂 不错 街道 热闹 街 不错 教堂 遗址 建筑 景点 真的 牌坊           |\n",
      "| 疯堂斜巷         | 建筑 斜巷 街道 葡萄牙 巷子 创意 特色 特别 风格 街区 建筑 走 斜巷 巷子 麻风病人 一条街 相间 安置 原 收养 |\n",
      "+------------------+---------------------------------------------------------------------------------------------------------+\n",
      "Cluster 4:\n",
      "+--------------+---------------------------------------------------------------------------------------------------+\n",
      "| Attraction   | Topic                                                                                             |\n",
      "|--------------+---------------------------------------------------------------------------------------------------|\n",
      "| 哪吒庙       | 庙 建筑 庙宇 供奉 旁边 历史 特别 文化 香火 很小 庙 历史 很小 旁边 城区 供奉 距离 特别 景点 庙宇   |\n",
      "| 妈阁庙       | 阁 香火 历史 庙 景点 庙宇 文化 建筑 著名 供奉 香火 景点 历史 阁 不错 庙宇 游客 旺盛 特别 古老     |\n",
      "| 普济禅院     | 条约 禅院 历史 望厦 寺庙 花园 值得 庙宇 签订 美 禅院 历史 条约 供奉 寺庙 庙宇 值得 望厦 特别 佛教 |\n",
      "+--------------+---------------------------------------------------------------------------------------------------+\n",
      "Cluster 5:\n",
      "+------------------+---------------------------------------------------------------------------------------------------+\n",
      "| Attraction       | Topic                                                                                             |\n",
      "|------------------+---------------------------------------------------------------------------------------------------|\n",
      "| 东望洋炮台及灯塔 | 灯塔 炮台 历史 景点 山 教堂 山上 雪地 俯瞰 殿 灯塔 炮台 教堂 雪地 建筑 壁画 公园 圣堂 景色 殿     |\n",
      "| 主教山小堂       | 教堂 主教 拍 山上 建筑 山 塔 景色 平台 值得 教堂 主教 山 山上 航海 圣堂 祈祷 小堂 海崖 炮台       |\n",
      "| 西望洋山         | 山 主教 山顶 教堂 不错 环境 值得 建筑 游客 山上 山 主教 历史 山上 走路 本土 两人 葡萄 游览 澳门街 |\n",
      "+------------------+---------------------------------------------------------------------------------------------------+\n",
      "Cluster 6:\n",
      "+--------------+---------------------------------------------------------------------------------------------------------------+\n",
      "| Attraction   | Topic                                                                                                         |\n",
      "|--------------+---------------------------------------------------------------------------------------------------------------|\n",
      "| 加思栏花园   | 花园 公园 南湾 景色 兵营 不错 适合 特色 历史 建筑物 公园 花园 南湾 建筑 特别 街 休闲 加思搁 喷泉 感觉         |\n",
      "| 卢廉若公园   | 公园 风格 苏州园林 池塘 园林 建筑 假山 特色 感觉 景色 公园 花园 很小 不错 荷花 开放 亭台楼阁 苏州园林 美 夏天 |\n",
      "| 恋爱巷       | 恋爱 巷 建筑 巷子 拍照 情侣 拍 走 电影 打卡 恋爱 巷 浪漫 建筑 感觉 拍照 情侣 名字 巷子 拍                     |\n",
      "| 永利音乐喷泉 | 秀 喷泉 免费 灯光 晚上 喷嘴 发射器 湖水 独立 灯泡 喷泉 音乐 酒店 晚上 灯光 表演 漂亮 特别 壮观 配合           |\n",
      "| 白鸽巢公园   | 公园 贾梅士 居民 葡萄牙 园内 马葵士 散步 富商 俾利 喇 公园 不错 环境 散步 贾梅士 景色 特别 小山 休闲 感觉     |\n",
      "+--------------+---------------------------------------------------------------------------------------------------------------+\n",
      "Cluster 7:\n",
      "+--------------------+-------------------------------------------------------------------------------------------------------------------+\n",
      "| Attraction         | Topic                                                                                                             |\n",
      "|--------------------+-------------------------------------------------------------------------------------------------------------------|\n",
      "| 塔石广场           | 广场 文化 建筑 特色 葡式 前地 活动 葡萄牙 适合 漂亮 广场 活动 文化 建筑 艺术 葡萄牙 举办 展馆 海报 球场           |\n",
      "| 富贵龙吉祥树       | 表演 吉祥 树 震撼 酒店 游客 音乐 吸引 真的 每隔 红色 变为 鹅黄色 炫丽 灯光 表演 吉祥 树 酒店 游客                 |\n",
      "| 澳门回归贺礼陈列馆 | 回归 总署 冼星海 隶属于 大马路 占地面积 面积 陈列馆 贺礼 新 回归 贺礼 陈列馆 赠送 文化 礼物 全国 自治区 纪念 陈列 |\n",
      "| 澳门渔人码头       | 码头 渔人 建筑 拍照 罗马 不错 古罗马 酒店 景点 值得 特色 设计 码头 走 唐城 大桥 励骏 建筑风格 友谊 建筑           |\n",
      "| 澳门美高梅天幕广场 | 广场 酒店 漂亮 特别 建筑 表演 设计 不错 拍照 特色 广场 酒店 中央 水 水族馆 圆柱形 鱼 设计 主题 巨型               |\n",
      "+--------------------+-------------------------------------------------------------------------------------------------------------------+\n"
     ]
    }
   ],
   "source": [
    "# 查看每个聚类中的景点和关键词并储存\n",
    "for i in range(num_clusters):\n",
    "    print(f'Cluster {i}:')\n",
    "    display_df_data(df_topic[df_topic['Cluster'] == i][['Attraction', 'Topic']])\n",
    "    \n",
    "df_topic.drop(columns=['Cluster'], inplace=True)\n",
    "df_topic.to_excel(comment_processed_file_path, index=False)"
   ]
  },
  {
   "cell_type": "markdown",
   "id": "d8963f91",
   "metadata": {},
   "source": [
    "然后把自己思路告诉ChatGPT 4，让它再做一遍。最终它确定聚为八类符合客观实际（一致），并给出了参考的景点标签。\n",
    "接下来我结合自己生成的和ChatGPT4给出的结果，通过人为微调进一步地确定景点标签，并命名为*Park、Square、Street、Museum、Performance、Western-Church、Chinese、Landmark*。部分聚类结果展示如下（各标签下前5个景点，顺序随机）："
   ]
  },
  {
   "cell_type": "code",
   "execution_count": 8,
   "id": "eb127370",
   "metadata": {},
   "outputs": [
    {
     "name": "stdout",
     "output_type": "stream",
     "text": [
      "The attractions under the 'Chinese' tag\n",
      "+------------------+---------------------------------------------------------------------------------------------------------------+\n",
      "| Attraction       | Topic                                                                                                         |\n",
      "|------------------+---------------------------------------------------------------------------------------------------------------|\n",
      "| 下环街市熟食中心 | 吃 美食 街市 好吃 中心 熟食 味道 推荐 红豆饼 本地人 吃 街市 美食 好吃 熟食 味道 中心 推荐 本地人 市场         |\n",
      "| 卢家大屋         | 大屋 建筑 中式 大宅 典型 参观 卢华绍 商人 建筑风格 历史 大屋 卢九 大堂 精美 文化局 修复 管理 商人 巷 金玉     |\n",
      "| 卢廉若公园       | 公园 风格 苏州园林 池塘 园林 建筑 假山 特色 感觉 景色 公园 花园 很小 不错 荷花 开放 亭台楼阁 苏州园林 美 夏天 |\n",
      "| 妈阁庙           | 阁 香火 历史 庙 景点 庙宇 文化 建筑 著名 供奉 香火 景点 历史 阁 不错 庙宇 游客 旺盛 特别 古老                 |\n",
      "| 普济禅院         | 条约 禅院 历史 望厦 寺庙 花园 值得 庙宇 签订 美 禅院 历史 条约 供奉 寺庙 庙宇 值得 望厦 特别 佛教             |\n",
      "+------------------+---------------------------------------------------------------------------------------------------------------+\n",
      "The attractions under the 'Landmark' tag\n",
      "+--------------+---------------------------------------------------------------------------------------------------------+\n",
      "| Attraction   | Topic                                                                                                   |\n",
      "|--------------+---------------------------------------------------------------------------------------------------------|\n",
      "| 大三巴牌坊   | 建筑 打卡 景点 地标 历史 教堂 标志性 值得 不错 牌坊 教堂 建筑 历史 景点 炮台 牌坊 游客 地标 打卡 大火   |\n",
      "| 澳门塔       | 不错 塔 蹦极 值得 体验 观光 刺激 餐厅 自助餐 景色 塔 不错 蹦极 观光 值得 建筑 景色 地标 餐厅 风景       |\n",
      "| 邮政总局     | 邮票 大楼 明信片 建筑 风格 邮局 购买 亭 邮政 历史 建筑 大楼 风格 历史 特色 地标 明信片 葡萄牙 邮票 报时 |\n",
      "| 金莲花广场   | 广场 回归 纪念 景点 意义 雕塑 地标 盛世 游客 建筑 码头 渔人 跑 两尊 咖啡 雕像 远 金沙 广场 酒店         |\n",
      "| 恋爱巷       | 恋爱 巷 建筑 巷子 拍照 情侣 拍 走 电影 打卡 恋爱 巷 浪漫 建筑 感觉 拍照 情侣 名字 巷子 拍               |\n",
      "+--------------+---------------------------------------------------------------------------------------------------------+\n",
      "The attractions under the 'Museum' tag\n",
      "+--------------+-----------------------------------------------------------------------------------------------------------------+\n",
      "| Attraction   | Topic                                                                                                           |\n",
      "|--------------+-----------------------------------------------------------------------------------------------------------------|\n",
      "| 仁慈堂大樓   | 大楼 建筑 博物馆 历史 不错 慈善机构 白色 亭 议事厅 慈善 大楼 博物馆 建筑 白色 亭 历史 慈善机构 建筑物 医院 二楼 |\n",
      "| 塔石广场     | 广场 文化 建筑 特色 葡式 前地 活动 葡萄牙 适合 漂亮 广场 活动 文化 建筑 艺术 葡萄牙 举办 展馆 海报 球场         |\n",
      "| 大炮台       | 炮台 博物馆 历史 大炮 旁边 圣保禄 景色 不错 葡京 俯瞰 炮台 博物馆 历史 大炮 旁边 葡京 走 景点 新 俯瞰           |\n",
      "| 岗顶前地     | 剧院 图书馆 教堂 广场 历史 圣堂 修院 前地 城区 建筑 建筑 广场 剧院 教堂 图书馆 葡萄牙 历史 修院 风格 建筑物     |\n",
      "| 民政总署大楼 | 大楼 总署 建筑 葡萄牙 历史 风格 参观 花园 特色 图书馆 总署 美好 世纪 照片 二楼 圣诞 图书馆 大楼 参观 公交       |\n",
      "+--------------+-----------------------------------------------------------------------------------------------------------------+\n",
      "The attractions under the 'Park' tag\n",
      "+------------------+---------------------------------------------------------------------------------------------------------------+\n",
      "| Attraction       | Topic                                                                                                         |\n",
      "|------------------+---------------------------------------------------------------------------------------------------------------|\n",
      "| 东望洋山         | 灯塔 松山 炮台 公园 坐标 远东 古老 历史 山 俯瞰 山 灯塔 松山 山上 炮台 教堂 景色 坐 缆车 跑步                 |\n",
      "| 东望洋炮台及灯塔 | 灯塔 炮台 历史 景点 山 教堂 山上 雪地 俯瞰 殿 灯塔 炮台 教堂 雪地 建筑 壁画 公园 圣堂 景色 殿                 |\n",
      "| 二龙喉公园       | 公园 缆车 景色 坐 水池 松山 真的 拜斯 动物 百多年 公园 缆车 特别 不错 坐 值得 交通 环境 松山 动物             |\n",
      "| 加思栏花园       | 花园 公园 南湾 景色 兵营 不错 适合 特色 历史 建筑物 公园 花园 南湾 建筑 特别 街 休闲 加思搁 喷泉 感觉         |\n",
      "| 卢廉若公园       | 公园 风格 苏州园林 池塘 园林 建筑 假山 特色 感觉 景色 公园 花园 很小 不错 荷花 开放 亭台楼阁 苏州园林 美 夏天 |\n",
      "+------------------+---------------------------------------------------------------------------------------------------------------+\n",
      "The attractions under the 'Performance' tag\n",
      "+--------------------+---------------------------------------------------------------------------------------------------------------+\n",
      "| Attraction         | Topic                                                                                                         |\n",
      "|--------------------+---------------------------------------------------------------------------------------------------------------|\n",
      "| 富贵龙吉祥树       | 表演 吉祥 树 震撼 酒店 游客 音乐 吸引 真的 每隔 红色 变为 鹅黄色 炫丽 灯光 表演 吉祥 树 酒店 游客             |\n",
      "| 永利音乐喷泉       | 秀 喷泉 免费 灯光 晚上 喷嘴 发射器 湖水 独立 灯泡 喷泉 音乐 酒店 晚上 灯光 表演 漂亮 特别 壮观 配合           |\n",
      "| 澳门文化中心       | 文化 中心 建筑 不错 大楼 博物馆 表演 艺术表演 值得 场地 文化 中心 建筑 表演 场地 不错 艺术 大楼 艺术表演 值得 |\n",
      "| 澳门美高梅天幕广场 | 广场 酒店 漂亮 特别 建筑 表演 设计 不错 拍照 特色 广场 酒店 中央 水 水族馆 圆柱形 鱼 设计 主题 巨型           |\n",
      "| 恋爱巷             | 恋爱 巷 建筑 巷子 拍照 情侣 拍 走 电影 打卡 恋爱 巷 浪漫 建筑 感觉 拍照 情侣 名字 巷子 拍                     |\n",
      "+--------------------+---------------------------------------------------------------------------------------------------------------+\n",
      "The attractions under the 'Square' tag\n",
      "+--------------------+-------------------------------------------------------------------------------------------------------------+\n",
      "| Attraction         | Topic                                                                                                       |\n",
      "|--------------------+-------------------------------------------------------------------------------------------------------------|\n",
      "| 亚婆井前地         | 建筑 山泉 水池 历史 葡萄牙 大屋 广场 最早 值得 居民 历史 水池 建筑 山泉 大屋 文化遗产 世界 走 休息 景点     |\n",
      "| 塔石广场           | 广场 文化 建筑 特色 葡式 前地 活动 葡萄牙 适合 漂亮 广场 活动 文化 建筑 艺术 葡萄牙 举办 展馆 海报 球场     |\n",
      "| 岗顶前地           | 剧院 图书馆 教堂 广场 历史 圣堂 修院 前地 城区 建筑 建筑 广场 剧院 教堂 图书馆 葡萄牙 历史 修院 风格 建筑物 |\n",
      "| 澳门美高梅天幕广场 | 广场 酒店 漂亮 特别 建筑 表演 设计 不错 拍照 特色 广场 酒店 中央 水 水族馆 圆柱形 鱼 设计 主题 巨型         |\n",
      "| 西湾湖             | 湖 晚上 不错 塔 广场 风景 烟花 很漂亮 特别 散步 湖 晚上 塔 不错 广场 很漂亮 烟花 风景 景色 喜欢             |\n",
      "+--------------------+-------------------------------------------------------------------------------------------------------------+\n",
      "The attractions under the 'Street' tag\n",
      "+------------------+---------------------------------------------------------------------------------------------------------+\n",
      "| Attraction       | Topic                                                                                                   |\n",
      "|------------------+---------------------------------------------------------------------------------------------------------|\n",
      "| 下环街市熟食中心 | 吃 美食 街市 好吃 中心 熟食 味道 推荐 红豆饼 本地人 吃 街市 美食 好吃 熟食 味道 中心 推荐 本地人 市场   |\n",
      "| 加思栏花园       | 花园 公园 南湾 景色 兵营 不错 适合 特色 历史 建筑物 公园 花园 南湾 建筑 特别 街 休闲 加思搁 喷泉 感觉   |\n",
      "| 十月初五马路     | 马路 街道 月光 特色 走 街 不错 街上 安静 繁华 马路 街 特色 街道 特别 路 海边 走 不错 吹                 |\n",
      "| 大三巴街         | 街 美食 买 试吃 一条街 卖 游客 猪肉 牛杂 不错 街道 热闹 街 不错 教堂 遗址 建筑 景点 真的 牌坊           |\n",
      "| 疯堂斜巷         | 建筑 斜巷 街道 葡萄牙 巷子 创意 特色 特别 风格 街区 建筑 走 斜巷 巷子 麻风病人 一条街 相间 安置 原 收养 |\n",
      "+------------------+---------------------------------------------------------------------------------------------------------+\n",
      "The attractions under the 'Western-Church' tag\n",
      "+------------------+-----------------------------------------------------------------------------------------------------------+\n",
      "| Attraction       | Topic                                                                                                     |\n",
      "|------------------+-----------------------------------------------------------------------------------------------------------|\n",
      "| 东望洋山         | 灯塔 松山 炮台 公园 坐标 远东 古老 历史 山 俯瞰 山 灯塔 松山 山上 炮台 教堂 景色 坐 缆车 跑步             |\n",
      "| 东望洋炮台及灯塔 | 灯塔 炮台 历史 景点 山 教堂 山上 雪地 俯瞰 殿 灯塔 炮台 教堂 雪地 建筑 壁画 公园 圣堂 景色 殿             |\n",
      "| 主教山小堂       | 教堂 主教 拍 山上 建筑 山 塔 景色 平台 值得 教堂 主教 山 山上 航海 圣堂 祈祷 小堂 海崖 炮台               |\n",
      "| 卢家大屋         | 大屋 建筑 中式 大宅 典型 参观 卢华绍 商人 建筑风格 历史 大屋 卢九 大堂 精美 文化局 修复 管理 商人 巷 金玉 |\n",
      "| 圣母诞辰主教座堂 | 教堂 主教 座堂 建筑 大堂 天主教 历史 风格 特色 特别 教堂 主教 座堂 大堂 建筑 天主教 主教堂 外观 参观 木造 |\n",
      "+------------------+-----------------------------------------------------------------------------------------------------------+\n"
     ]
    }
   ],
   "source": [
    "topic_cluster_folder_path = '../data/processed/attractions_topic_clustering'\n",
    "\n",
    "files = [f for f in os.listdir(topic_cluster_folder_path) if f.endswith('.xlsx')]\n",
    "\n",
    "for file in files:\n",
    "    file_path = os.path.join(topic_cluster_folder_path, file)\n",
    "    df_cluster = pd.read_excel(file_path)\n",
    "    \n",
    "    df_cluster = pd.merge(df_cluster[['Attraction']], df_topic, on='Attraction', how='left')\n",
    "    \n",
    "    print(f\"The attractions under the '{file[:-5]}' tag\")\n",
    "    display_df_data(df_cluster[['Attraction', 'Topic']])\n",
    "    \n",
    "    df_cluster.to_excel(file_path, index=False)"
   ]
  }
 ],
 "metadata": {
  "kernelspec": {
   "display_name": "fyp",
   "language": "python",
   "name": "fyp"
  },
  "language_info": {
   "codemirror_mode": {
    "name": "ipython",
    "version": 3
   },
   "file_extension": ".py",
   "mimetype": "text/x-python",
   "name": "python",
   "nbconvert_exporter": "python",
   "pygments_lexer": "ipython3",
   "version": "3.8.0"
  },
  "toc": {
   "base_numbering": 1,
   "nav_menu": {},
   "number_sections": true,
   "sideBar": true,
   "skip_h1_title": false,
   "title_cell": "Table of Contents",
   "title_sidebar": "Contents",
   "toc_cell": false,
   "toc_position": {},
   "toc_section_display": true,
   "toc_window_display": false
  }
 },
 "nbformat": 4,
 "nbformat_minor": 5
}
