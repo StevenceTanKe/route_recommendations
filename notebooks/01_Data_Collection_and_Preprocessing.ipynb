{
 "cells": [
  {
   "cell_type": "markdown",
   "id": "685000a2",
   "metadata": {},
   "source": [
    "# Attraction Data Preprocessing\n",
    "We crawled two websites, namely *Ctrip.com* and *Dianping.com*. \\\n",
    "The crawled content is the hot scores, number of comments and scores of Macau attractions on *Ctrip.com* and the number of comments and scores of Macau attractions on *Dianping.com*. They are stored in attraction_ctrip.xlsx and attraction_dianping.xlsx respectively.\\\n",
    "Because I had done the initial processing of the collected data manually, they became very neat and tidy."
   ]
  },
  {
   "cell_type": "markdown",
   "id": "e3a123c9",
   "metadata": {},
   "source": [
    "## Prepare\n",
    "The purpose of the first module is to prepare for subsequent data preprocessing, which includes importing relevant libraries, defining some reusable functions, etc. "
   ]
  },
  {
   "cell_type": "code",
   "execution_count": 1,
   "id": "5685bee7",
   "metadata": {},
   "outputs": [
    {
     "name": "stdout",
     "output_type": "stream",
     "text": [
      "The initial data in attractions_information_ctrip.xlsx:\n",
      "+------------------+--------------------+-------------+---------+\n",
      "| 标题             | hot_score_number   | recomment   | score   |\n",
      "|------------------+--------------------+-------------+---------|\n",
      "| 澳门科学馆       | 7.0                | (763条点评) | 4.8 分  |\n",
      "| 澳门大赛车博物馆 | 5.8                | (126条点评) | 4.7 分  |\n",
      "| 海事博物馆       | 3.9                | (137条点评) | 4.7 分  |\n",
      "| ...              | ...                | ...         | ...     |\n",
      "| 东方基金会会址   | 1.8                | (23条点评)  | 4 分    |\n",
      "+------------------+--------------------+-------------+---------+\n",
      "\n",
      "The initial data in attractions_information_dianping.xlsx:\n",
      "+------------------+----------+----------+--------+\n",
      "| 标题             | tag      | 评价数   | 评分   |\n",
      "|------------------+----------+----------+--------|\n",
      "| 圣若瑟修院藏珍馆 | 宗教     | 98       | 4.7    |\n",
      "|                  |          | 条评价   |        |\n",
      "| 女娲庙           | 宗教     | 97       | 4.1    |\n",
      "|                  |          | 条评价   |        |\n",
      "| 圣奥斯定教堂     | 宗教     | 89       | 4.5    |\n",
      "|                  |          | 条评价   |        |\n",
      "| ...              | ...      | ...      | ...    |\n",
      "| 友谊大桥         | 更多景点 | 100      | 4.7    |\n",
      "|                  |          | 条评价   |        |\n",
      "+------------------+----------+----------+--------+\n"
     ]
    }
   ],
   "source": [
    "import pandas as pd\n",
    "from tabulate import tabulate\n",
    "\n",
    "def display_df_data(df, num_rows=3):\n",
    "    \"\"\"\n",
    "    Display the first few rows of data in the dataframe.\n",
    "\n",
    "    Parameters:\n",
    "        df (dataframe): The dataframe which contains the data.\n",
    "        num_rows (int): The number of rows to display initially. Default is 3.\n",
    "    \"\"\"\n",
    "    # If the DataFrame has more rows than we want to display, insert an ellipsis\n",
    "    if len(df) > num_rows + 1:\n",
    "        ellipsis = pd.DataFrame([['...'] * len(df.columns)], columns=df.columns)\n",
    "        df = pd.concat([df.head(num_rows), ellipsis, df.tail(1)], ignore_index=True)\n",
    "\n",
    "    print(tabulate(df, headers='keys', tablefmt='psql', showindex=False))\n",
    "\n",
    "\n",
    "ctrip_attraction_file_path = '../data/raw/attractions_information/attractions_information_ctrip.xlsx'\n",
    "dianping_attraction_file_path = '../data/raw/attractions_information/attractions_information_dianping.xlsx'\n",
    "attraction_file_path = '../data/processed/attractions_information.xlsx'\n",
    "\n",
    "print(\"The initial data in attractions_information_ctrip.xlsx:\")\n",
    "display_df_data(pd.read_excel(ctrip_attraction_file_path))\n",
    "\n",
    "print(\"\\nThe initial data in attractions_information_dianping.xlsx:\")\n",
    "display_df_data(pd.read_excel(dianping_attraction_file_path))"
   ]
  },
  {
   "cell_type": "markdown",
   "id": "f7d08b8b",
   "metadata": {},
   "source": [
    "## Merge two excel sheets\n",
    "We use *outer joins* to merge the attraction data from the two websites, and the attractions are named connection keys. \\\n",
    "\\\n",
    "When using outer joins to merge these two scenic spot data sets, there will be many reasons why the matching is unsuccessful. Some columns of some rows will be filled with NaN, so subsequent manual adjustments are required. \\\n",
    "The following are the reasons I summarized for unsuccessful matching:\n",
    "1. *Spelling differences*: There may be slight spelling differences in the names of attractions in the two datasets, such as differences in Cantonese and Chinese characters.\n",
    "2. *Updates are out of sync*: The data updates on the two websites are out of sync, resulting in the name of the attraction on one website having been modified, while the name of the attraction on the other website has not been updated. Such as 民政总署大楼（现市政署大楼）.\n",
    "3. *Different naming conventions*: For example, it is called \"澳门塔\" on Ctrip.com, but it is called \"澳门旅游塔\" on Dianping.com."
   ]
  },
  {
   "cell_type": "code",
   "execution_count": 2,
   "id": "3fffba6d",
   "metadata": {},
   "outputs": [
    {
     "name": "stdout",
     "output_type": "stream",
     "text": [
      "+------------------+--------------------+-------------+---------+----------+----------+--------+\n",
      "| 标题             | hot_score_number   | recomment   | score   | tag      | 评价数   | 评分   |\n",
      "|------------------+--------------------+-------------+---------+----------+----------+--------|\n",
      "| 澳门科学馆       | 7.0                | (763条点评) | 4.8 分  | 展览馆   | 1240     | 4.9    |\n",
      "|                  |                    |             |         |          | 条评价   |        |\n",
      "| 澳门大赛车博物馆 | 5.8                | (126条点评) | 4.7 分  | 展览馆   | 486      | 4.8    |\n",
      "|                  |                    |             |         |          | 条评价   |        |\n",
      "| 海事博物馆       | 3.9                | (137条点评) | 4.7 分  | 展览馆   | 300      | 4.8    |\n",
      "|                  |                    |             |         |          | 条评价   |        |\n",
      "| ...              | ...                | ...         | ...     | ...      | ...      | ...    |\n",
      "| 友谊大桥         | nan                | nan         | nan     | 更多景点 | 100      | 4.7    |\n",
      "|                  |                    |             |         |          | 条评价   |        |\n",
      "+------------------+--------------------+-------------+---------+----------+----------+--------+\n"
     ]
    }
   ],
   "source": [
    "df1 = pd.read_excel(ctrip_attraction_file_path)\n",
    "df2 = pd.read_excel(dianping_attraction_file_path)\n",
    "\n",
    "df_attraction = pd.merge(df1, df2, on='标题', how='outer')\n",
    "\n",
    "display_df_data(df_attraction)"
   ]
  },
  {
   "cell_type": "markdown",
   "id": "817b4d29",
   "metadata": {},
   "source": [
    "## Modify column name\n",
    "Change *Chinese* or *inappropriate* column names to corresponding *English* column names."
   ]
  },
  {
   "cell_type": "code",
   "execution_count": 3,
   "id": "477d42fb",
   "metadata": {},
   "outputs": [
    {
     "name": "stdout",
     "output_type": "stream",
     "text": [
      "+------------------+-------------------+-----------------+---------------+----------+--------------------+------------------+\n",
      "| Attraction       | ctrip_hot_score   | ctrip_comment   | ctrip_score   | tag      | dianping_comment   | dianping_score   |\n",
      "|------------------+-------------------+-----------------+---------------+----------+--------------------+------------------|\n",
      "| 澳门科学馆       | 7.0               | (763条点评)     | 4.8 分        | 展览馆   | 1240               | 4.9              |\n",
      "|                  |                   |                 |               |          | 条评价             |                  |\n",
      "| 澳门大赛车博物馆 | 5.8               | (126条点评)     | 4.7 分        | 展览馆   | 486                | 4.8              |\n",
      "|                  |                   |                 |               |          | 条评价             |                  |\n",
      "| 海事博物馆       | 3.9               | (137条点评)     | 4.7 分        | 展览馆   | 300                | 4.8              |\n",
      "|                  |                   |                 |               |          | 条评价             |                  |\n",
      "| ...              | ...               | ...             | ...           | ...      | ...                | ...              |\n",
      "| 友谊大桥         | nan               | nan             | nan           | 更多景点 | 100                | 4.7              |\n",
      "|                  |                   |                 |               |          | 条评价             |                  |\n",
      "+------------------+-------------------+-----------------+---------------+----------+--------------------+------------------+\n"
     ]
    }
   ],
   "source": [
    "new_column_names = {'标题': 'Attraction', \n",
    "                    'hot_score_number': 'ctrip_hot_score',\n",
    "                    'recomment': 'ctrip_comment',\n",
    "                    'score': 'ctrip_score',\n",
    "                    '评价数': 'dianping_comment',\n",
    "                    '评分': 'dianping_score'}\n",
    "df_attraction = df_attraction.rename(columns=new_column_names)\n",
    "\n",
    "display_df_data(df_attraction)"
   ]
  },
  {
   "cell_type": "markdown",
   "id": "2afe4844",
   "metadata": {},
   "source": [
    "## Delete unnecessary columns\n",
    "Delete columns that are not useful for subsequent operations."
   ]
  },
  {
   "cell_type": "code",
   "execution_count": 4,
   "id": "6e5fe061",
   "metadata": {},
   "outputs": [
    {
     "name": "stdout",
     "output_type": "stream",
     "text": [
      "+------------------+-------------------+-----------------+---------------+--------------------+------------------+\n",
      "| Attraction       | ctrip_hot_score   | ctrip_comment   | ctrip_score   | dianping_comment   | dianping_score   |\n",
      "|------------------+-------------------+-----------------+---------------+--------------------+------------------|\n",
      "| 澳门科学馆       | 7.0               | (763条点评)     | 4.8 分        | 1240               | 4.9              |\n",
      "|                  |                   |                 |               | 条评价             |                  |\n",
      "| 澳门大赛车博物馆 | 5.8               | (126条点评)     | 4.7 分        | 486                | 4.8              |\n",
      "|                  |                   |                 |               | 条评价             |                  |\n",
      "| 海事博物馆       | 3.9               | (137条点评)     | 4.7 分        | 300                | 4.8              |\n",
      "|                  |                   |                 |               | 条评价             |                  |\n",
      "| ...              | ...               | ...             | ...           | ...                | ...              |\n",
      "| 友谊大桥         | nan               | nan             | nan           | 100                | 4.7              |\n",
      "|                  |                   |                 |               | 条评价             |                  |\n",
      "+------------------+-------------------+-----------------+---------------+--------------------+------------------+\n"
     ]
    }
   ],
   "source": [
    "columns_to_drop = [\"tag\"]  # List of column names to delete\n",
    "df_attraction.drop(columns=columns_to_drop, inplace=True)\n",
    "\n",
    "display_df_data(df_attraction)"
   ]
  },
  {
   "cell_type": "markdown",
   "id": "e93544ff",
   "metadata": {},
   "source": [
    "## Remove unnecessary characters\n",
    "We perform data processing operations on specific columns, including removing brackets and Chinese characters in columns. This cleans the data and saves the processed data in a normalized format for subsequent use."
   ]
  },
  {
   "cell_type": "code",
   "execution_count": 5,
   "id": "9ebad9c7",
   "metadata": {},
   "outputs": [
    {
     "name": "stdout",
     "output_type": "stream",
     "text": [
      "+------------------+-------------------+-----------------+---------------+--------------------+------------------+\n",
      "| Attraction       | ctrip_hot_score   | ctrip_comment   | ctrip_score   | dianping_comment   | dianping_score   |\n",
      "|------------------+-------------------+-----------------+---------------+--------------------+------------------|\n",
      "| 澳门科学馆       | 7.0               | 763             | 4.8           | 1240               | 4.9              |\n",
      "| 澳门大赛车博物馆 | 5.8               | 126             | 4.7           | 486                | 4.8              |\n",
      "| 海事博物馆       | 3.9               | 137             | 4.7           | 300                | 4.8              |\n",
      "| ...              | ...               | ...             | ...           | ...                | ...              |\n",
      "| 友谊大桥         | nan               | nan             | nan           | 100                | 4.7              |\n",
      "+------------------+-------------------+-----------------+---------------+--------------------+------------------+\n"
     ]
    }
   ],
   "source": [
    "columns = ['ctrip_hot_score', 'ctrip_comment', 'ctrip_score', 'dianping_comment', 'dianping_score']\n",
    "\n",
    "for column in columns:\n",
    "    # Check whether the column data type is string\n",
    "    if pd.api.types.is_string_dtype(df_attraction[column]):\n",
    "        df_attraction[column] = df_attraction[column].str.replace(\"[()]\", '', regex=True) # remove ( and )\n",
    "        df_attraction[column] = df_attraction[column].str.replace(r'[\\u4e00-\\u9fa5]+', '', regex=True) # remove chinese characters\n",
    "    else:\n",
    "        # If the column is not of string type, convert it to a string for operation\n",
    "        df_attraction[column] = df_attraction[column].astype(str).str.replace(\"[()]\", '', regex=True)\n",
    "        df_attraction[column] = df_attraction[column].astype(str).str.replace(r'[\\u4e00-\\u9fa5]+', '', regex=True)\n",
    "\n",
    "display_df_data(df_attraction)\n",
    "\n",
    "df_attraction.to_excel(attraction_file_path, index=False)"
   ]
  }
 ],
 "metadata": {
  "kernelspec": {
   "display_name": "fyp",
   "language": "python",
   "name": "fyp"
  },
  "language_info": {
   "codemirror_mode": {
    "name": "ipython",
    "version": 3
   },
   "file_extension": ".py",
   "mimetype": "text/x-python",
   "name": "python",
   "nbconvert_exporter": "python",
   "pygments_lexer": "ipython3",
   "version": "3.8.0"
  },
  "toc": {
   "base_numbering": 1,
   "nav_menu": {},
   "number_sections": true,
   "sideBar": true,
   "skip_h1_title": false,
   "title_cell": "Table of Contents",
   "title_sidebar": "Contents",
   "toc_cell": false,
   "toc_position": {},
   "toc_section_display": true,
   "toc_window_display": false
  }
 },
 "nbformat": 4,
 "nbformat_minor": 5
}
